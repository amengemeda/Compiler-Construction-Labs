{
  "cells": [
    {
      "cell_type": "markdown",
      "metadata": {
        "id": "view-in-github",
        "colab_type": "text"
      },
      "source": [
        "<a href=\"https://colab.research.google.com/github/amengemeda/Compiler-Construction-Labs/blob/main/Compiler_Construction_Project.ipynb\" target=\"_parent\"><img src=\"https://colab.research.google.com/assets/colab-badge.svg\" alt=\"Open In Colab\"/></a>"
      ]
    },
    {
      "cell_type": "markdown",
      "metadata": {
        "id": "StE7eyFnHbfH"
      },
      "source": [
        "## **Introduction**"
      ]
    },
    {
      "cell_type": "markdown",
      "metadata": {
        "id": "OWph4voDEksh"
      },
      "source": [
        "In this colab file, our groub has built a simple programming language that can do the basic arthimetic operations. These operations are:\n",
        "* addition \n",
        "* subtraction\n",
        "* division\n",
        "* multiplication \n",
        "* modulus\n",
        "<br> \n",
        "This project uses the following inbuilt tools to build the programming language:\n",
        "1.   ***PLY***: is an implementation of lex and yacc parsing tools for Python. It is used as lexer and parser in this project\n",
        "2.   ***LLVMlite*** as low level intermediate language to do code generation with optimizations.\n",
        "\n",
        "### **Path** \n",
        "\n",
        "**Input code ---> Lexer ---> Parser ---> AST ---> Code generator**\n"
      ]
    },
    {
      "cell_type": "markdown",
      "metadata": {
        "id": "sxXfY0aOGpoo"
      },
      "source": [
        "### **1. Installing the required packages**"
      ]
    },
    {
      "cell_type": "code",
      "execution_count": null,
      "metadata": {
        "colab": {
          "background_save": true,
          "base_uri": "https://localhost:8080/"
        },
        "id": "vBUvD-WR-tbr",
        "outputId": "acf83e1c-3da8-492e-837e-0b09fc11053f"
      },
      "outputs": [
        {
          "name": "stdout",
          "output_type": "stream",
          "text": [
            "Looking in indexes: https://pypi.org/simple, https://us-python.pkg.dev/colab-wheels/public/simple/\n",
            "Requirement already satisfied: llvmlite in /usr/local/lib/python3.7/dist-packages (0.39.1)\n"
          ]
        }
      ],
      "source": [
        "!pip install llvmlite "
      ]
    },
    {
      "cell_type": "code",
      "execution_count": null,
      "metadata": {
        "colab": {
          "base_uri": "https://localhost:8080/"
        },
        "id": "6w_bvuCg_fQ1",
        "outputId": "5f7e18aa-20d1-405f-de87-e525e75de062"
      },
      "outputs": [
        {
          "name": "stdout",
          "output_type": "stream",
          "text": [
            "Looking in indexes: https://pypi.org/simple, https://us-python.pkg.dev/colab-wheels/public/simple/\n",
            "Collecting rply\n",
            "  Downloading rply-0.7.8-py2.py3-none-any.whl (16 kB)\n",
            "Requirement already satisfied: appdirs in /usr/local/lib/python3.7/dist-packages (from rply) (1.4.4)\n",
            "Installing collected packages: rply\n",
            "Successfully installed rply-0.7.8\n"
          ]
        }
      ],
      "source": [
        "!pip install rply"
      ]
    },
    {
      "cell_type": "markdown",
      "metadata": {
        "id": "QFbgYw3xIjjg"
      },
      "source": [
        "### **2. Build the Lexer class using the rply tool**"
      ]
    },
    {
      "cell_type": "code",
      "execution_count": null,
      "metadata": {
        "id": "5gZfIQKf_wny"
      },
      "outputs": [],
      "source": [
        "from rply import LexerGenerator"
      ]
    },
    {
      "cell_type": "code",
      "execution_count": null,
      "metadata": {
        "id": "yTz7RM8L_tjC"
      },
      "outputs": [],
      "source": [
        "class Lexer():\n",
        "    def __init__(self):\n",
        "        self.lexer = LexerGenerator()\n",
        "\n",
        "    def _add_tokens(self):\n",
        "        # Print\n",
        "        self.lexer.add('PRINT', r'print')\n",
        "        # Parenthesis\n",
        "        self.lexer.add('OPEN_PAREN', r'\\(')\n",
        "        self.lexer.add('CLOSE_PAREN', r'\\)')\n",
        "        # Semi Colon\n",
        "        self.lexer.add('SEMI_COLON', r'\\;')\n",
        "        # Operators\n",
        "        self.lexer.add('SUM', r'\\+')\n",
        "        self.lexer.add('SUB', r'\\-')\n",
        "        self.lexer.add('MUL', r'\\*')\n",
        "        self.lexer.add('DIV', r'\\/')\n",
        "        self.lexer.add('MOD', r'\\%')\n",
        "        # Number\n",
        "        self.lexer.add('NUMBER', r'\\d+')\n",
        "        # Ignore spaces\n",
        "        self.lexer.ignore('\\s+')\n",
        "\n",
        "    def get_lexer(self):\n",
        "        self._add_tokens()\n",
        "        return self.lexer.build()"
      ]
    },
    {
      "cell_type": "markdown",
      "metadata": {
        "id": "PEHYyaD8JEg7"
      },
      "source": [
        "### **3. Test the lexer class**"
      ]
    },
    {
      "cell_type": "code",
      "execution_count": null,
      "metadata": {
        "colab": {
          "base_uri": "https://localhost:8080/"
        },
        "id": "eOSh8CA__zry",
        "outputId": "8e7e4df0-d8a8-40a1-9d75-fa5259f7fac5"
      },
      "outputs": [
        {
          "name": "stdout",
          "output_type": "stream",
          "text": [
            "Token('PRINT', 'print')\n",
            "Token('OPEN_PAREN', '(')\n",
            "Token('NUMBER', '4')\n",
            "Token('SUM', '+')\n",
            "Token('NUMBER', '4')\n",
            "Token('SUB', '-')\n",
            "Token('NUMBER', '2')\n",
            "Token('MUL', '*')\n",
            "Token('NUMBER', '4')\n",
            "Token('DIV', '/')\n",
            "Token('NUMBER', '2')\n",
            "Token('CLOSE_PAREN', ')')\n",
            "Token('SEMI_COLON', ';')\n"
          ]
        }
      ],
      "source": [
        "text_input = \"\"\"\n",
        "print(4 + 4 - 2 * 4 / 2);\n",
        "\"\"\"\n",
        "\n",
        "lexer = Lexer().get_lexer()\n",
        "tokens = lexer.lex(text_input)\n",
        "\n",
        "for token in tokens:\n",
        "    print(token)"
      ]
    },
    {
      "cell_type": "markdown",
      "metadata": {
        "id": "H818T2A0KZQy"
      },
      "source": [
        "### **4. Create support classes that will be used by the parser to create the AST**"
      ]
    },
    {
      "cell_type": "code",
      "execution_count": null,
      "metadata": {
        "id": "e0YDX0UeOTNO"
      },
      "outputs": [],
      "source": []
    },
    {
      "cell_type": "code",
      "execution_count": null,
      "metadata": {
        "id": "OdXA0P42_7os"
      },
      "outputs": [],
      "source": [
        "#class to process numeric values in the AST\n",
        "class Number():\n",
        "    def __init__(self, builder, module, value):\n",
        "        self.builder = builder\n",
        "        self.module = module\n",
        "        self.value = value\n",
        "\n",
        "    def eval(self):\n",
        "        i = ir.Constant(ir.IntType(8), int(self.value))\n",
        "        return i"
      ]
    },
    {
      "cell_type": "code",
      "execution_count": null,
      "metadata": {
        "id": "xT6FVJmwACsU"
      },
      "outputs": [],
      "source": [
        "#class to process the division of the syntax tree into sub-trees (left and right)\n",
        "class BinaryOp():\n",
        "    def __init__(self, builder, module, left, right):\n",
        "        self.builder = builder\n",
        "        self.module = module\n",
        "        self.left = left\n",
        "        self.right = right"
      ]
    },
    {
      "cell_type": "code",
      "execution_count": null,
      "metadata": {
        "id": "iY3qxjyRAGHL"
      },
      "outputs": [],
      "source": [
        "#class to process addition in the AST\n",
        "class Sum(BinaryOp):\n",
        "    def eval(self):\n",
        "        i = self.builder.add(self.left.eval(), self.right.eval())\n",
        "        return i"
      ]
    },
    {
      "cell_type": "code",
      "execution_count": null,
      "metadata": {
        "id": "cumaWSJwAJKS"
      },
      "outputs": [],
      "source": [
        "#class to process subtraction in the AST\n",
        "class Sub(BinaryOp):\n",
        "    def eval(self):\n",
        "        i = self.builder.sub(self.left.eval(), self.right.eval())\n",
        "        return i"
      ]
    },
    {
      "cell_type": "code",
      "execution_count": null,
      "metadata": {
        "id": "h6XVP3bjIChv"
      },
      "outputs": [],
      "source": [
        "#class to process division in the AST\n",
        "class Div(BinaryOp):\n",
        "    def eval(self):\n",
        "        i = self.builder.div(self.left.eval(), self.right.eval())\n",
        "        return i"
      ]
    },
    {
      "cell_type": "code",
      "execution_count": null,
      "metadata": {
        "id": "UjzP5zbeIDeB"
      },
      "outputs": [],
      "source": [
        "#class to process Multiplication in the AST\n",
        "class Mul(BinaryOp):\n",
        "    def eval(self):\n",
        "        i = self.builder.mul(self.left.eval(), self.right.eval())\n",
        "        return i"
      ]
    },
    {
      "cell_type": "code",
      "execution_count": null,
      "metadata": {
        "id": "PJC2TyYnIZKQ"
      },
      "outputs": [],
      "source": [
        "#class to process Modulus operation in the AST\n",
        "class Mod(BinaryOp):\n",
        "    def eval(self):\n",
        "        i = self.builder.mod(self.left.eval(), self.right.eval())\n",
        "        return i"
      ]
    },
    {
      "cell_type": "code",
      "execution_count": null,
      "metadata": {
        "id": "EWeC_CKXAOWr"
      },
      "outputs": [],
      "source": [
        "#class to print values\n",
        "class Print():\n",
        "    def __init__(self, builder, module, printf, value):\n",
        "        self.builder = builder\n",
        "        self.module = module\n",
        "        self.printf = printf\n",
        "        self.value = value\n",
        "\n",
        "    def eval(self):\n",
        "        value = self.value.eval()\n",
        "\n",
        "        # Declare argument list\n",
        "        voidptr_ty = ir.IntType(8).as_pointer()\n",
        "        fmt = \"%i \\n\\0\"\n",
        "        c_fmt = ir.Constant(ir.ArrayType(ir.IntType(8), len(fmt)),\n",
        "                            bytearray(fmt.encode(\"utf8\")))\n",
        "        global_fmt = ir.GlobalVariable(self.module, c_fmt.type, name=\"fstr\")\n",
        "        global_fmt.linkage = 'internal'\n",
        "        global_fmt.global_constant = True\n",
        "        global_fmt.initializer = c_fmt\n",
        "        fmt_arg = self.builder.bitcast(global_fmt, voidptr_ty)\n",
        "\n",
        "        # Call Print Function\n",
        "        self.builder.call(self.printf, [fmt_arg, value])"
      ]
    },
    {
      "cell_type": "markdown",
      "metadata": {
        "id": "jcrU9eZWKr6h"
      },
      "source": [
        "### **5. Create the Parser Class**"
      ]
    },
    {
      "cell_type": "code",
      "execution_count": null,
      "metadata": {
        "id": "vVlkfNiQEe9Y"
      },
      "outputs": [],
      "source": [
        "from rply import ParserGenerator"
      ]
    },
    {
      "cell_type": "code",
      "execution_count": null,
      "metadata": {
        "id": "GC5TvdC2EP_a"
      },
      "outputs": [],
      "source": [
        "class Parser():\n",
        "    def __init__(self, module, builder, printf):\n",
        "        self.pg = ParserGenerator(\n",
        "            # A list of all token names accepted by the parser.\n",
        "            ['NUMBER', 'PRINT', 'OPEN_PAREN', 'CLOSE_PAREN',\n",
        "             'SEMI_COLON', 'SUM', 'SUB', 'MUL', 'DIV', 'MOD']\n",
        "        )\n",
        "        self.module = module\n",
        "        self.builder = builder\n",
        "        self.printf = printf\n",
        "\n",
        "    def parse(self):\n",
        "        @self.pg.production('program : PRINT OPEN_PAREN expression CLOSE_PAREN SEMI_COLON')\n",
        "        def program(p):\n",
        "            return Print(self.builder, self.module, self.printf, p[2])\n",
        "\n",
        "        @self.pg.production('expression : expression SUM expression')\n",
        "        @self.pg.production('expression : expression SUB expression')\n",
        "        @self.pg.production('expression : expression MUL expression')\n",
        "        @self.pg.production('expression : expression DIV expression')\n",
        "        @self.pg.production('expression : expression MOD expression')\n",
        "        def expression(p):\n",
        "            left = p[0]\n",
        "            right = p[2]\n",
        "            operator = p[1]\n",
        "            if operator.gettokentype() == 'SUM':\n",
        "                return Sum(self.builder, self.module, left, right)\n",
        "            elif operator.gettokentype() == 'SUB':\n",
        "                return Sub(self.builder, self.module, left, right)\n",
        "            elif operator.gettokentype() == 'MUL':\n",
        "                return Mul(self.builder, self.module, left, right)\n",
        "            elif operator.gettokentype() == 'DIV':\n",
        "                return Div(self.builder, self.module, left, right)\n",
        "            elif operator.gettokentype() == 'MOD':\n",
        "                return Mod(self.builder, self.module, left, right)\n",
        "\n",
        "        @self.pg.production('expression : NUMBER')\n",
        "        def number(p):\n",
        "            return Number(self.builder, self.module, p[0].value)\n",
        "\n",
        "        @self.pg.error\n",
        "        def error_handle(token):\n",
        "            raise ValueError(token)\n",
        "\n",
        "    def get_parser(self):\n",
        "        return self.pg.build()"
      ]
    },
    {
      "cell_type": "markdown",
      "metadata": {
        "id": "363o4BmrLDAI"
      },
      "source": [
        "### **6. Test the Parser class**"
      ]
    },
    {
      "cell_type": "code",
      "execution_count": null,
      "metadata": {
        "id": "qu-hfgu2LJFf"
      },
      "outputs": [],
      "source": []
    },
    {
      "cell_type": "markdown",
      "metadata": {
        "id": "yQo5H5JYMscw"
      },
      "source": [
        "### **7. Create the Code Generator class** "
      ]
    },
    {
      "cell_type": "code",
      "execution_count": null,
      "metadata": {
        "id": "99GOdQarM-oI"
      },
      "outputs": [],
      "source": [
        "from llvmlite import ir, binding"
      ]
    },
    {
      "cell_type": "code",
      "execution_count": null,
      "metadata": {
        "id": "SajWSvZ8M4MS"
      },
      "outputs": [],
      "source": [
        "class CodeGen():\n",
        "    def __init__(self):\n",
        "        self.binding = binding\n",
        "        self.binding.initialize()\n",
        "        self.binding.initialize_native_target()\n",
        "        self.binding.initialize_native_asmprinter()\n",
        "        self._config_llvm()\n",
        "        self._create_execution_engine()\n",
        "        self._declare_print_function()\n",
        "\n",
        "    def _config_llvm(self):\n",
        "        # Config LLVM\n",
        "        self.module = ir.Module()\n",
        "        self.module.triple = self.binding.get_default_triple()\n",
        "        func_type = ir.FunctionType(ir.VoidType(), [], False)\n",
        "        base_func = ir.Function(self.module, func_type, name=\"main\")\n",
        "        block = base_func.append_basic_block(name=\"entry\")\n",
        "        self.builder = ir.IRBuilder(block)\n",
        "\n",
        "    def _create_execution_engine(self):\n",
        "        \"\"\"\n",
        "        Create an ExecutionEngine suitable for JIT code generation on\n",
        "        the host CPU.  The engine is reusable for an arbitrary number of\n",
        "        modules.\n",
        "        \"\"\"\n",
        "        target = self.binding.Target.from_default_triple()\n",
        "        target_machine = target.create_target_machine()\n",
        "        # And an execution engine with an empty backing module\n",
        "        backing_mod = binding.parse_assembly(\"\")\n",
        "        engine = binding.create_mcjit_compiler(backing_mod, target_machine)\n",
        "        self.engine = engine\n",
        "\n",
        "    def _declare_print_function(self):\n",
        "        # Declare Printf function\n",
        "        voidptr_ty = ir.IntType(8).as_pointer()\n",
        "        printf_ty = ir.FunctionType(ir.IntType(32), [voidptr_ty], var_arg=True)\n",
        "        printf = ir.Function(self.module, printf_ty, name=\"printf\")\n",
        "        self.printf = printf\n",
        "\n",
        "    def _compile_ir(self):\n",
        "        \"\"\"\n",
        "        Compile the LLVM IR string with the given engine.\n",
        "        The compiled module object is returned.\n",
        "        \"\"\"\n",
        "        # Create a LLVM module object from the IR\n",
        "        self.builder.ret_void()\n",
        "        llvm_ir = str(self.module)\n",
        "        mod = self.binding.parse_assembly(llvm_ir)\n",
        "        mod.verify()\n",
        "        # Now add the module and make sure it is ready for execution\n",
        "        self.engine.add_module(mod)\n",
        "        self.engine.finalize_object()\n",
        "        self.engine.run_static_constructors()\n",
        "        return mod\n",
        "\n",
        "    def create_ir(self):\n",
        "        self._compile_ir()\n",
        "\n",
        "    def save_ir(self, filename):\n",
        "        with open(filename, 'w') as output_file:\n",
        "            output_file.write(str(self.module))"
      ]
    },
    {
      "cell_type": "markdown",
      "metadata": {
        "id": "J2RQcwoHPCoI"
      },
      "source": [
        "### **8. Test the Code Generator**"
      ]
    },
    {
      "cell_type": "code",
      "execution_count": null,
      "metadata": {
        "colab": {
          "base_uri": "https://localhost:8080/"
        },
        "id": "KvBtKsJvPIuW",
        "outputId": "38544005-0798-4f08-e6c0-130e79cacf7e"
      },
      "outputs": [
        {
          "name": "stderr",
          "output_type": "stream",
          "text": [
            "/usr/local/lib/python3.7/dist-packages/ipykernel_launcher.py:46: ParserGeneratorWarning: 25 shift/reduce conflicts\n"
          ]
        }
      ],
      "source": [
        "text_input = \"\"\"\n",
        "print(4 + 4 - 2);\n",
        "\"\"\"\n",
        "\n",
        "lexer = Lexer().get_lexer()\n",
        "tokens = lexer.lex(text_input)\n",
        "\n",
        "codegen = CodeGen()\n",
        "\n",
        "module = codegen.module\n",
        "builder = codegen.builder\n",
        "printf = codegen.printf\n",
        "\n",
        "pg = Parser(module, builder, printf)\n",
        "pg.parse()\n",
        "parser = pg.get_parser()\n",
        "parser.parse(tokens).eval()\n",
        "\n",
        "codegen.create_ir()\n",
        "codegen.save_ir(\"output.ll\")"
      ]
    },
    {
      "cell_type": "markdown",
      "metadata": {
        "id": "KaE6zUyxSDV_"
      },
      "source": [
        "### **Final Step**\n",
        "Our code generator converts the input code into **LLVM IR** file named as **output.ll**.<br> \n",
        "To compile this .ll file into a executable, one can use **LLC** to create an object file **output.o**, and finally, use **GCC** to create the final executable file."
      ]
    }
  ],
  "metadata": {
    "colab": {
      "provenance": [],
      "include_colab_link": true
    },
    "kernelspec": {
      "display_name": "Python 3",
      "name": "python3"
    },
    "language_info": {
      "name": "python"
    }
  },
  "nbformat": 4,
  "nbformat_minor": 0
}